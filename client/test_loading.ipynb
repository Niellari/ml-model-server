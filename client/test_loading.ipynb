{
 "cells": [
  {
   "cell_type": "code",
   "execution_count": null,
   "metadata": {},
   "outputs": [],
   "source": [
    "!pip install requests aiohttp"
   ]
  },
  {
   "cell_type": "markdown",
   "metadata": {},
   "source": [
    "Все запросы описаны в ml-model-server/server/main.py\n",
    "\n",
    "В ml-model-server/server/models.py находится фабрика для создания моделей и абстрактный класс модели и три конкретные реализации(логистическая и линейная регрессии, knn). Туда же загружаются модели после обучения.\n",
    "\n",
    "в ml-model-server/server/config.py загружается конфигурация сервера\n",
    "\n",
    "в ml-model-server/server/schemas.py описаны входные параметры для всех запросов"
   ]
  },
  {
   "cell_type": "code",
   "execution_count": 78,
   "metadata": {},
   "outputs": [],
   "source": [
    "import requests\n",
    "\n",
    "BASE_URL = \"http://127.0.0.1:8000\""
   ]
  },
  {
   "cell_type": "markdown",
   "metadata": {},
   "source": [
    "Попытаемся загрузить модель, которой нет на сервере, ожидается, что бросится исключение с соответствующим сообщением."
   ]
  },
  {
   "cell_type": "code",
   "execution_count": 80,
   "metadata": {},
   "outputs": [
    {
     "data": {
      "text/plain": [
       "'Модель с именем `test_model_name` не найдена на диске'"
      ]
     },
     "execution_count": 80,
     "metadata": {},
     "output_type": "execute_result"
    }
   ],
   "source": [
    "payload = {\"model_name\": \"test_model_name\"}\n",
    "response = requests.post(f\"{BASE_URL}/load\", json=payload)\n",
    "data = response.json()\n",
    "assert response.status_code == 400,f\"Неожиданный статус: {response.status_code}\"\n",
    "assert data[\"detail\"] == f\"Модель с именем `{payload['model_name']}` не найдена на диске\", \"Неверное сообщение в ответе\"\n",
    "data[\"detail\"]"
   ]
  },
  {
   "cell_type": "markdown",
   "metadata": {},
   "source": [
    "Теперь попытаемся обучить и сохранить какую-нибудь модель на сервер. "
   ]
  },
  {
   "cell_type": "code",
   "execution_count": 81,
   "metadata": {},
   "outputs": [
    {
     "data": {
      "text/plain": [
       "'Обучение модели `test_model_name` запущено.'"
      ]
     },
     "execution_count": 81,
     "metadata": {},
     "output_type": "execute_result"
    }
   ],
   "source": [
    "payload = {\n",
    "        \"model_name\": \"test_model_name\",\n",
    "        \"model_type\": \"LinearRegression\",\n",
    "        \"config\": {\"params\": {}},\n",
    "        \"X\": [[0, 1], [2, 3]],\n",
    "        \"y\": [3, 3]\n",
    "}\n",
    "response = requests.post(f\"{BASE_URL}/fit\", json=payload) \n",
    "data = response.json()\n",
    "assert response.status_code == 200,f\"Неожиданный статус: {response.status_code}\"\n",
    "assert data[\"message\"] == f\"Обучение модели `{payload['model_name']}` запущено.\", \"Неверное сообщение в ответе\"\n",
    "data[\"message\"]"
   ]
  },
  {
   "cell_type": "markdown",
   "metadata": {},
   "source": [
    "Попробуем снова запустить код загрузки модели"
   ]
  },
  {
   "cell_type": "code",
   "execution_count": 82,
   "metadata": {},
   "outputs": [
    {
     "data": {
      "text/plain": [
       "'Модель test_model_name загружена.'"
      ]
     },
     "execution_count": 82,
     "metadata": {},
     "output_type": "execute_result"
    }
   ],
   "source": [
    "payload = {\"model_name\": \"test_model_name\"}\n",
    "response = requests.post(f\"{BASE_URL}/load\", json=payload)\n",
    "data = response.json()\n",
    "assert response.status_code == 200,f\"Неожиданный статус: {response.status_code}\"\n",
    "assert data[\"message\"] == f\"Модель {payload['model_name']} загружена.\", \"Неверное сообщение в ответе\"\n",
    "data[\"message\"]"
   ]
  },
  {
   "cell_type": "markdown",
   "metadata": {},
   "source": [
    "Попробуем загрузить её ещё раз, чтобы убедиться, что модель не загружается повторно"
   ]
  },
  {
   "cell_type": "code",
   "execution_count": 83,
   "metadata": {},
   "outputs": [
    {
     "data": {
      "text/plain": [
       "'Модель с именем `test_model_name` уже загружена'"
      ]
     },
     "execution_count": 83,
     "metadata": {},
     "output_type": "execute_result"
    }
   ],
   "source": [
    "payload = {\"model_name\": \"test_model_name\"}\n",
    "response = requests.post(f\"{BASE_URL}/load\", json=payload)\n",
    "data = response.json()\n",
    "assert response.status_code == 400,f\"Неожиданный статус: {response.status_code}\"\n",
    "assert data[\"detail\"] == f\"Модель с именем `{payload['model_name']}` уже загружена\", \"Неверное сообщение в ответе\"\n",
    "data[\"detail\"]"
   ]
  },
  {
   "cell_type": "markdown",
   "metadata": {},
   "source": [
    "Теперь попробуем загрузить моделей более, чем разрешено в конфиге(в конфиге 2)"
   ]
  },
  {
   "cell_type": "code",
   "execution_count": 84,
   "metadata": {},
   "outputs": [
    {
     "data": {
      "text/plain": [
       "'Достигнуто максимальное количество загруженных моделей'"
      ]
     },
     "execution_count": 84,
     "metadata": {},
     "output_type": "execute_result"
    }
   ],
   "source": [
    "max_models = 3  \n",
    "for i in range(max_models-1):\n",
    "    payload = {\n",
    "        \"model_name\": f\"model_{i}\",\n",
    "        \"model_type\": \"LinearRegression\",\n",
    "        \"config\": {\"params\": {}},\n",
    "        \"X\": [[0, 1], [2, 3]],\n",
    "        \"y\": [3, 3]\n",
    "    }\n",
    "    response = requests.post(f\"{BASE_URL}/fit\", json=payload) \n",
    "    assert response.status_code == 200,f\"Неожиданный статус при обучении модели {i}: {response.status_code}\"\n",
    "    response = requests.post(f\"{BASE_URL}/load\", json=payload)\n",
    "    assert response.status_code == 200, f\"Ошибка загрузки модели {i}\"\n",
    "\n",
    "payload = {\"model_name\": \"model_over_limit\"}\n",
    "response = requests.post(f\"{BASE_URL}/load\", json=payload)\n",
    "data = response.json()\n",
    "assert response.status_code == 400,f\"Неожиданный статус: {response.status_code}\"\n",
    "assert data[\"detail\"] == f\"Достигнуто максимальное количество загруженных моделей\", \"Неверное сообщение в ответе\"\n",
    "data[\"detail\"]"
   ]
  },
  {
   "cell_type": "markdown",
   "metadata": {},
   "source": [
    "Попробуем выгрузить из памяти модель"
   ]
  },
  {
   "cell_type": "code",
   "execution_count": 85,
   "metadata": {},
   "outputs": [
    {
     "data": {
      "text/plain": [
       "'Модель test_model_name выгружена.'"
      ]
     },
     "execution_count": 85,
     "metadata": {},
     "output_type": "execute_result"
    }
   ],
   "source": [
    "payload = {\"model_name\": \"test_model_name\"}\n",
    "response = requests.post(f\"{BASE_URL}/unload\", json=payload)\n",
    "data = response.json()\n",
    "assert response.status_code == 200,f\"Неожиданный статус: {response.status_code}\"\n",
    "assert data[\"message\"] == f\"Модель {payload['model_name']} выгружена.\", \"Неверное сообщение в ответе\"\n",
    "data[\"message\"]"
   ]
  },
  {
   "cell_type": "markdown",
   "metadata": {},
   "source": [
    "Попробуем ещё раз, чтобы убедиться, что модели больше нет в списках загруженных"
   ]
  },
  {
   "cell_type": "code",
   "execution_count": 86,
   "metadata": {},
   "outputs": [
    {
     "data": {
      "text/plain": [
       "'Модель с именем test_model_name не загружена'"
      ]
     },
     "execution_count": 86,
     "metadata": {},
     "output_type": "execute_result"
    }
   ],
   "source": [
    "payload = {\"model_name\": \"test_model_name\"}\n",
    "response = requests.post(f\"{BASE_URL}/unload\", json=payload)\n",
    "data = response.json()\n",
    "assert response.status_code == 404,f\"Неожиданный статус: {response.status_code}\"\n",
    "assert data[\"detail\"] == f\"Модель с именем {payload['model_name']} не загружена\", \"Неверное сообщение в ответе\"\n",
    "data[\"detail\"]"
   ]
  },
  {
   "cell_type": "markdown",
   "metadata": {},
   "source": [
    "Далее удалим тестовую модель с диска."
   ]
  },
  {
   "cell_type": "code",
   "execution_count": 87,
   "metadata": {},
   "outputs": [
    {
     "data": {
      "text/plain": [
       "'Модель test_model_name.pkl удалена с диска.'"
      ]
     },
     "execution_count": 87,
     "metadata": {},
     "output_type": "execute_result"
    }
   ],
   "source": [
    "payload = {\"model_name\": \"test_model_name\"}\n",
    "response = requests.delete(f\"{BASE_URL}/models/remove\", params=payload)\n",
    "data = response.json()\n",
    "assert response.status_code == 200,f\"Неожиданный статус: {response.status_code}\"\n",
    "assert data[\"message\"] == f\"Модель {payload['model_name']}.pkl удалена с диска.\", \"Неверное сообщение в ответе\"\n",
    "data[\"message\"]"
   ]
  },
  {
   "cell_type": "markdown",
   "metadata": {},
   "source": [
    "Попробуем ещё раз, чтобы убедиться, что более на диске этой модели нет"
   ]
  },
  {
   "cell_type": "code",
   "execution_count": 88,
   "metadata": {},
   "outputs": [
    {
     "data": {
      "text/plain": [
       "'Модель test_model_name.pkl не найдена на диске'"
      ]
     },
     "execution_count": 88,
     "metadata": {},
     "output_type": "execute_result"
    }
   ],
   "source": [
    "payload = {\"model_name\": \"test_model_name\"}\n",
    "response = requests.delete(f\"{BASE_URL}/models/remove\", params=payload)\n",
    "data = response.json()\n",
    "assert response.status_code == 404,f\"Неожиданный статус: {response.status_code}\"\n",
    "assert data[\"detail\"] == f\"Модель {payload['model_name']}.pkl не найдена на диске\", \"Неверное сообщение в ответе\"\n",
    "data[\"detail\"]"
   ]
  },
  {
   "cell_type": "markdown",
   "metadata": {},
   "source": [
    "Удалим оставшиеся модели"
   ]
  },
  {
   "cell_type": "code",
   "execution_count": 89,
   "metadata": {},
   "outputs": [
    {
     "data": {
      "text/plain": [
       "'Все модели удалены с диска'"
      ]
     },
     "execution_count": 89,
     "metadata": {},
     "output_type": "execute_result"
    }
   ],
   "source": [
    "response = requests.delete(f\"{BASE_URL}/models/remove_all\")\n",
    "data = response.json()\n",
    "assert response.status_code == 200,f\"Неожиданный статус: {response.status_code}\"\n",
    "assert data[\"message\"] == \"Все модели удалены с диска\", \"Неверное сообщение в ответе\"\n",
    "data[\"message\"]"
   ]
  }
 ],
 "metadata": {
  "kernelspec": {
   "display_name": ".venv",
   "language": "python",
   "name": "python3"
  },
  "language_info": {
   "codemirror_mode": {
    "name": "ipython",
    "version": 3
   },
   "file_extension": ".py",
   "mimetype": "text/x-python",
   "name": "python",
   "nbconvert_exporter": "python",
   "pygments_lexer": "ipython3",
   "version": "3.12.4"
  }
 },
 "nbformat": 4,
 "nbformat_minor": 2
}
