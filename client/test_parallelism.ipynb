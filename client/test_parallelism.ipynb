{
 "cells": [
  {
   "cell_type": "code",
   "execution_count": null,
   "metadata": {},
   "outputs": [],
   "source": [
    "!pip install numpy scikit-learn"
   ]
  },
  {
   "cell_type": "markdown",
   "metadata": {},
   "source": [
    "Импортируем необходимые библиотеки и создадим такой набор данных, чтобы модель обучалась достаточно времени"
   ]
  },
  {
   "cell_type": "code",
   "execution_count": 1,
   "metadata": {},
   "outputs": [],
   "source": [
    "import aiohttp\n",
    "import asyncio\n",
    "import time\n",
    "\n",
    "import numpy as np\n",
    "import requests\n",
    "\n",
    "BASE_URL = \"http://localhost:8000\"\n",
    "X = np.random.rand(4000000, 10).tolist()\n",
    "y = np.random.rand(4000000).tolist()"
   ]
  },
  {
   "cell_type": "markdown",
   "metadata": {},
   "source": [
    "Функция для отправки HTTP POST-запроса на обучение модели."
   ]
  },
  {
   "cell_type": "code",
   "execution_count": 2,
   "metadata": {},
   "outputs": [],
   "source": [
    "async def train_model(flag,session, model_name, model_type, X, y, config=None):\n",
    "    payload = {\n",
    "        \"model_name\": model_name,\n",
    "        \"model_type\": model_type,\n",
    "        \"X\": X,\n",
    "        \"y\": y,\n",
    "        \"config\": {\"params\": config} if config else {\"params\": {}},\n",
    "    }\n",
    "    if flag:\n",
    "        async with session.post(f\"{BASE_URL}/fit\", json=payload) as response:\n",
    "            await response.json()  # Возвращает JSON-ответ\n",
    "    else: \n",
    "        requests.post(f\"{BASE_URL}/fit\", json=payload)"
   ]
  },
  {
   "cell_type": "markdown",
   "metadata": {},
   "source": [
    "Функция для последовательного запуска"
   ]
  },
  {
   "cell_type": "code",
   "execution_count": 3,
   "metadata": {},
   "outputs": [],
   "source": [
    "async def sequential_training():\n",
    "    async with aiohttp.ClientSession() as session:\n",
    "        started = time.time()\n",
    "        \n",
    "        await train_model(False, session, \"test_model1\", \"LinearRegression\", X, y, config={})\n",
    "        \n",
    "        await train_model(False, session, \"test_model2\", \"LinearRegression\", X, y, config={})\n",
    "        \n",
    "        print(f\"{time.time() - started:.2f}\")"
   ]
  },
  {
   "cell_type": "markdown",
   "metadata": {},
   "source": [
    "Функция для параллельного запуска"
   ]
  },
  {
   "cell_type": "code",
   "execution_count": 4,
   "metadata": {},
   "outputs": [],
   "source": [
    "async def parallel_training():\n",
    "    async with aiohttp.ClientSession() as session:\n",
    "        tasks = [\n",
    "            train_model(True, session, \"test_model3\", \"LinearRegression\", X, y, config={}),\n",
    "            train_model(True, session, \"test_model4\", \"LinearRegression\", X, y, config={}),\n",
    "        ]\n",
    "        started = time.time()\n",
    "        await asyncio.gather(*tasks)\n",
    "        print(f\"{time.time() - started:.2f}\")"
   ]
  },
  {
   "cell_type": "code",
   "execution_count": 5,
   "metadata": {},
   "outputs": [
    {
     "name": "stdout",
     "output_type": "stream",
     "text": [
      "Sequential training:\n",
      "232.31\n",
      "Parallel training:\n",
      "197.89\n"
     ]
    }
   ],
   "source": [
    "async def main():\n",
    "    print(\"Sequential training:\")\n",
    "    await sequential_training()\n",
    "    print(\"Parallel training:\")\n",
    "    await parallel_training()\n",
    "\n",
    "if __name__ == \"__main__\":\n",
    "    await main()"
   ]
  }
 ],
 "metadata": {
  "kernelspec": {
   "display_name": ".venv",
   "language": "python",
   "name": "python3"
  },
  "language_info": {
   "codemirror_mode": {
    "name": "ipython",
    "version": 3
   },
   "file_extension": ".py",
   "mimetype": "text/x-python",
   "name": "python",
   "nbconvert_exporter": "python",
   "pygments_lexer": "ipython3",
   "version": "3.12.4"
  }
 },
 "nbformat": 4,
 "nbformat_minor": 2
}
